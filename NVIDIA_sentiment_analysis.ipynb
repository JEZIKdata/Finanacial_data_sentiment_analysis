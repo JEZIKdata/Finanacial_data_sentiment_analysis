{
 "cells": [
  {
   "cell_type": "markdown",
   "id": "f3c70854",
   "metadata": {},
   "source": [
    "# Scraping Financial Data To Predict Returns"
   ]
  },
  {
   "cell_type": "markdown",
   "id": "20e47c22",
   "metadata": {},
   "source": [
    "Have you ever wanted to build an app that tells you **when to buy and sell a stock** based on general public's opinion of it?\n",
    "We are going to use Twitter to mine public opinion on **NVIDIA** company and build a sentiment-based strategy that helps us predict if we should buy or sell this stock.\n",
    "\n",
    "For scraping data on Twitter we are going to use **snscrape library** by [JustAnotherArchivist](https://github.com/JustAnotherArchivist/snscrape) that allows one to scrape tweets without the restrictions of Tweepy. Snscrape requires at least Python 3.8 or higher. With snscrape we can pull data into a data frame with filters of our choosing.\n",
    "\n",
    "**Attributes** available through snscraper Tweet object adn their datatypes: \n",
    "\n",
    "***url:*** str, permalink pointing to url location \n",
    "\n",
    "***date:*** datetime.datetime, date tweet was created \n",
    "\n",
    "***content:*** str, text content of the tweet \n",
    "\n",
    "***renderedContent:*** str, text content of the tweet \n",
    "\n",
    "***id:*** int, id of tweet \n",
    "\n",
    "***user:*** 'User' object containing username, displayname, id, description, descriptionUrls,, verified, created, \n",
    "followersCount, friendsCount, statusesCount, favouritedCount, listedCount, mediaCount, location, protected, linkUrl, profileImageUrl, profileBannerUrl \n",
    "\n",
    "***outlinks:*** list \n",
    "\n",
    "***tcooutlinks:*** list \n",
    "\n",
    "***replyCount:*** int, count of replies \n",
    "\n",
    "***retweetCount:*** int, count of retweets \n",
    "\n",
    "***likeCount:*** int\n",
    "\n",
    "***quoteCount:*** int, count of users that quoted the tweet and replied \n",
    "\n",
    "***conversationId:*** int, same as tweetID \n",
    "\n",
    "***lang:*** str, machine generated, assumed language of the tweet \n",
    "\n",
    "***source:*** str, where tweet was posted from, Iphone, Android \n",
    "\n",
    "***media:*** typing.Optional[typing.List['Medium']] = None, 'Media' object, containing previewUrl, fullUrl, type \n",
    "\n",
    "***retweetedTweet:*** typing.Optional['Tweet'] = None, if is retweet, id of original tweet \n",
    "\n",
    "***quotedTweet:*** typing.Optional['Tweet'] = None, if is quoted tweet, id of original tweet \n",
    "\n",
    "***mentionedUsers:*** typing.Optional[typing.List['User']] = None, 'User' object of any mentioned users in tweet\n"
   ]
  },
  {
   "cell_type": "code",
   "execution_count": 2,
   "id": "f7a9c064",
   "metadata": {},
   "outputs": [
    {
     "name": "stdout",
     "output_type": "stream",
     "text": [
      "Defaulting to user installation because normal site-packages is not writeable\n",
      "Collecting snscrape\n",
      "  Downloading snscrape-0.4.3.20220106-py3-none-any.whl (59 kB)\n",
      "Requirement already satisfied: beautifulsoup4 in c:\\program files (x86)\\development tools\\anaconda\\lib\\site-packages (from snscrape) (4.10.0)\n",
      "Requirement already satisfied: requests[socks] in c:\\program files (x86)\\development tools\\anaconda\\lib\\site-packages (from snscrape) (2.26.0)\n",
      "Requirement already satisfied: filelock in c:\\program files (x86)\\development tools\\anaconda\\lib\\site-packages (from snscrape) (3.3.1)\n",
      "Requirement already satisfied: lxml in c:\\program files (x86)\\development tools\\anaconda\\lib\\site-packages (from snscrape) (4.6.3)\n",
      "Requirement already satisfied: soupsieve>1.2 in c:\\program files (x86)\\development tools\\anaconda\\lib\\site-packages (from beautifulsoup4->snscrape) (2.2.1)\n",
      "Requirement already satisfied: idna<4,>=2.5 in c:\\program files (x86)\\development tools\\anaconda\\lib\\site-packages (from requests[socks]->snscrape) (3.2)\n",
      "Requirement already satisfied: certifi>=2017.4.17 in c:\\program files (x86)\\development tools\\anaconda\\lib\\site-packages (from requests[socks]->snscrape) (2021.10.8)\n",
      "Requirement already satisfied: charset-normalizer~=2.0.0 in c:\\program files (x86)\\development tools\\anaconda\\lib\\site-packages (from requests[socks]->snscrape) (2.0.4)\n",
      "Requirement already satisfied: urllib3<1.27,>=1.21.1 in c:\\program files (x86)\\development tools\\anaconda\\lib\\site-packages (from requests[socks]->snscrape) (1.26.7)\n",
      "Requirement already satisfied: PySocks!=1.5.7,>=1.5.6 in c:\\program files (x86)\\development tools\\anaconda\\lib\\site-packages (from requests[socks]->snscrape) (1.7.1)\n",
      "Installing collected packages: snscrape\n",
      "Successfully installed snscrape-0.4.3.20220106\n"
     ]
    },
    {
     "name": "stderr",
     "output_type": "stream",
     "text": [
      "  WARNING: The script snscrape.exe is installed in 'C:\\Users\\Lenovo\\AppData\\Roaming\\Python\\Python39\\Scripts' which is not on PATH.\n",
      "  Consider adding this directory to PATH or, if you prefer to suppress this warning, use --no-warn-script-location.\n"
     ]
    }
   ],
   "source": [
    "!pip install snscrape"
   ]
  },
  {
   "cell_type": "code",
   "execution_count": 12,
   "id": "2907a5e5",
   "metadata": {},
   "outputs": [],
   "source": [
    "import pandas as pd\n",
    "import numpy as np\n",
    "import snscrape.modules.twitter as sntwitter\n",
    "import csv\n",
    "import matplotlib.pyplot as plt\n",
    "import plotly.express as px"
   ]
  },
  {
   "cell_type": "code",
   "execution_count": 2,
   "id": "c526a227",
   "metadata": {},
   "outputs": [],
   "source": [
    "# Set maximum tweets to pull\n",
    "maxTweets = 20000\n",
    "# Set what keywords you want your twitter scraper to pull\n",
    "keyword = 'NVIDIA'\n",
    "#Open/create a file to append data to\n",
    "csvFile = open('nvidia_tweets_result.csv', 'a', newline='', encoding='utf8')\n",
    "#Use csv writer\n",
    "csvWriter = csv.writer(csvFile)\n",
    "csvWriter.writerow(['id','date','tweet',])\n",
    "\n",
    "# Write tweets into the csv file\n",
    "\n",
    "#sntwitter.TwitterSearchScraper('from:jack').get_items() from user\n",
    "\n",
    "for i,tweet in enumerate(sntwitter.TwitterSearchScraper(keyword + ' lang:en since:2021-08-08 until:2022-08-08 -filter:links -filter:replies').get_items()):\n",
    "        if i > maxTweets :\n",
    "            break\n",
    "        csvWriter.writerow([tweet.id, tweet.date, tweet.content])\n",
    "csvFile.close()"
   ]
  },
  {
   "cell_type": "markdown",
   "id": "d7f7d58c",
   "metadata": {},
   "source": [
    "For analysing the sentiment of our scraped data we will use **VADER** (Valence Aware Dictionary and sEntiment), which is a lexicon and rule-based sentiment analysis tool that is specifically attuned to sentiments expressed in **social media**. VADER uses a combination of a sentiment lexicon - a list of lexical features (e.g., words) which are generally labelled according to their semantic orientation as either **positive** or **negative.** \n",
    "\n",
    "VADER analyses sentiments primarily based on certain **key points:**\n",
    "\n",
    "-\t***Punctuation:*** The use of an exclamation mark(!), increases the magnitude of the intensity without modifying the semantic orientation. For example, “The food here is good!” is more intense than “The food here is good.” and an increase in the number of (!), increases the magnitude accordingly.\n",
    "-\t***Capitalization:*** Using upper case letters to emphasize a sentiment-relevant word in the presence of other non-capitalized words, increases the magnitude of the sentiment intensity. For example, “The food here is GREAT!” conveys more intensity than “The food here is great!”\n",
    "-\t***Degree modifiers:*** Also called intensifiers, they impact the sentiment intensity by either increasing or decreasing the intensity. For example, “The service here is extremely good” is more intense than “The service here is good”, whereas “The service here is marginally good” reduces the intensity.\n",
    "-\t***Conjunctions:*** Use of conjunctions like “but” signals a shift in sentiment polarity, with the sentiment of the text following the conjunction being dominant. “The food here is great, but the service is horrible” has mixed sentiment, with the latter half dictating the overall rating.\n",
    "-\t***Preceding Tri-gram:*** By examining the tri-gram preceding a sentiment-laden lexical feature, we catch nearly 90% of cases where negation flips the polarity of the text. A negated sentence would be “The food here isn’t really all that great”."
   ]
  },
  {
   "cell_type": "code",
   "execution_count": 3,
   "id": "ad46a0b1",
   "metadata": {},
   "outputs": [
    {
     "name": "stdout",
     "output_type": "stream",
     "text": [
      "NVIDIA sucks!--------------------------- {'neg': 0.736, 'neu': 0.264, 'pos': 0.0, 'compound': -0.4199}\n"
     ]
    }
   ],
   "source": [
    "from vaderSentiment.vaderSentiment import SentimentIntensityAnalyzer\n",
    "\n",
    "# Trying the analyzer\n",
    "analyzer = SentimentIntensityAnalyzer()\n",
    "def sentiment_analyzer_scores(sentence):\n",
    "    score = analyzer.polarity_scores(sentence)\n",
    "    return(\"{:-<40} {}\".format(sentence, str(score)))\n",
    "print(sentiment_analyzer_scores(\"NVIDIA sucks!\"))"
   ]
  },
  {
   "cell_type": "code",
   "execution_count": 4,
   "id": "d2a1a600",
   "metadata": {},
   "outputs": [
    {
     "data": {
      "text/html": [
       "<div>\n",
       "<style scoped>\n",
       "    .dataframe tbody tr th:only-of-type {\n",
       "        vertical-align: middle;\n",
       "    }\n",
       "\n",
       "    .dataframe tbody tr th {\n",
       "        vertical-align: top;\n",
       "    }\n",
       "\n",
       "    .dataframe thead th {\n",
       "        text-align: right;\n",
       "    }\n",
       "</style>\n",
       "<table border=\"1\" class=\"dataframe\">\n",
       "  <thead>\n",
       "    <tr style=\"text-align: right;\">\n",
       "      <th></th>\n",
       "      <th>id</th>\n",
       "      <th>tweet</th>\n",
       "    </tr>\n",
       "    <tr>\n",
       "      <th>date</th>\n",
       "      <th></th>\n",
       "      <th></th>\n",
       "    </tr>\n",
       "  </thead>\n",
       "  <tbody>\n",
       "    <tr>\n",
       "      <th>2022-08-07 23:39:18+00:00</th>\n",
       "      <td>1556424776658214912</td>\n",
       "      <td>Transaction reports filed by Pelosi, a multi-m...</td>\n",
       "    </tr>\n",
       "    <tr>\n",
       "      <th>2022-08-07 23:17:36+00:00</th>\n",
       "      <td>1556419317415157761</td>\n",
       "      <td>It's been about 4 months now and Bungie still ...</td>\n",
       "    </tr>\n",
       "    <tr>\n",
       "      <th>2022-08-07 22:55:45+00:00</th>\n",
       "      <td>1556413818821033985</td>\n",
       "      <td>absolutely love how every single time I go to ...</td>\n",
       "    </tr>\n",
       "    <tr>\n",
       "      <th>2022-08-07 22:31:04+00:00</th>\n",
       "      <td>1556407607002284054</td>\n",
       "      <td>Netflix app keeps interacting badly with my nV...</td>\n",
       "    </tr>\n",
       "    <tr>\n",
       "      <th>2022-08-07 22:18:19+00:00</th>\n",
       "      <td>1556404396468359168</td>\n",
       "      <td>Powering .@MercedesBenz's  Drive Pilot, Nvidia...</td>\n",
       "    </tr>\n",
       "  </tbody>\n",
       "</table>\n",
       "</div>"
      ],
      "text/plain": [
       "                                            id  \\\n",
       "date                                             \n",
       "2022-08-07 23:39:18+00:00  1556424776658214912   \n",
       "2022-08-07 23:17:36+00:00  1556419317415157761   \n",
       "2022-08-07 22:55:45+00:00  1556413818821033985   \n",
       "2022-08-07 22:31:04+00:00  1556407607002284054   \n",
       "2022-08-07 22:18:19+00:00  1556404396468359168   \n",
       "\n",
       "                                                                       tweet  \n",
       "date                                                                          \n",
       "2022-08-07 23:39:18+00:00  Transaction reports filed by Pelosi, a multi-m...  \n",
       "2022-08-07 23:17:36+00:00  It's been about 4 months now and Bungie still ...  \n",
       "2022-08-07 22:55:45+00:00  absolutely love how every single time I go to ...  \n",
       "2022-08-07 22:31:04+00:00  Netflix app keeps interacting badly with my nV...  \n",
       "2022-08-07 22:18:19+00:00  Powering .@MercedesBenz's  Drive Pilot, Nvidia...  "
      ]
     },
     "execution_count": 4,
     "metadata": {},
     "output_type": "execute_result"
    }
   ],
   "source": [
    "df = pd.read_csv('nvidia_tweets_result.csv')\n",
    "df = df.set_index('date')\n",
    "df.head()"
   ]
  },
  {
   "cell_type": "code",
   "execution_count": 5,
   "id": "a834d27a",
   "metadata": {},
   "outputs": [],
   "source": [
    "#Creating a column for the various sentiment scores of each individual tweet:\n",
    "df['compound'] = [analyzer.polarity_scores(x)['compound'] for x in df['tweet']]\n",
    "df['neg'] = [analyzer.polarity_scores(x)['neg'] for x in df['tweet']]\n",
    "df['neu'] = [analyzer.polarity_scores(x)['neu'] for x in df['tweet']]\n",
    "df['pos'] = [analyzer.polarity_scores(x)['pos'] for x in df['tweet']]"
   ]
  },
  {
   "cell_type": "code",
   "execution_count": 7,
   "id": "c003240b",
   "metadata": {},
   "outputs": [],
   "source": [
    "# fromatting date column\n",
    "df.index = pd.to_datetime(df.index, errors='coerce',format='%Y-%m-%d %H:%M:%S')\n",
    "# resampling data to have daily sentiment values\n",
    "df = df.resample('D').mean()\n",
    "# removing weekends\n",
    "df = df.loc[df.index.to_series().dt.weekday < 5]\n",
    "# writing data to new CSV file so that we can change some formatting in Excel\n",
    "df.to_csv('tweets_resampled_mean_no_weekends.csv')"
   ]
  },
  {
   "cell_type": "markdown",
   "id": "bc8d4d47",
   "metadata": {},
   "source": [
    "We are going to use the help of **Excel** to quickly remove the hours, minutes and seconds data from our date column and rename our date column\n",
    "**‘Date’** so its the same as the Date column in our ticker data. To remove the h/m/s data, navigate to the\n",
    "‘Data’ tab, highlight the ‘date’ column, select ‘Space’ as a delimiter, click ‘Next’, then select ‘YMD’ as our date format."
   ]
  },
  {
   "cell_type": "code",
   "execution_count": 3,
   "id": "82980368",
   "metadata": {},
   "outputs": [],
   "source": [
    "corrected_df = pd.read_excel(\"tweets_resampled_mean_no_weekends_corrected.xlsx\", parse_dates=True, index_col=0)"
   ]
  },
  {
   "cell_type": "markdown",
   "id": "2ff42656",
   "metadata": {},
   "source": [
    "In order to build a trading strategy around this sentiment data, we need to download the ticker data for NVIDIA (NVDA) from **Yahoo Finance.**"
   ]
  },
  {
   "cell_type": "code",
   "execution_count": 4,
   "id": "dd8f3ffe",
   "metadata": {},
   "outputs": [
    {
     "name": "stdout",
     "output_type": "stream",
     "text": [
      "[*********************100%***********************]  1 of 1 completed\n"
     ]
    }
   ],
   "source": [
    "import yfinance as yf\n",
    "nvidia = yf.download(\"NVDA\", start=\"2022-01-27\", end=\"2022-08-08\")\n",
    "\n",
    "combined_df = corrected_df.merge(nvidia, on='Date',how='outer').dropna()"
   ]
  },
  {
   "cell_type": "code",
   "execution_count": 10,
   "id": "c1b949df",
   "metadata": {},
   "outputs": [
    {
     "data": {
      "text/html": [
       "<div>\n",
       "<style scoped>\n",
       "    .dataframe tbody tr th:only-of-type {\n",
       "        vertical-align: middle;\n",
       "    }\n",
       "\n",
       "    .dataframe tbody tr th {\n",
       "        vertical-align: top;\n",
       "    }\n",
       "\n",
       "    .dataframe thead th {\n",
       "        text-align: right;\n",
       "    }\n",
       "</style>\n",
       "<table border=\"1\" class=\"dataframe\">\n",
       "  <thead>\n",
       "    <tr style=\"text-align: right;\">\n",
       "      <th></th>\n",
       "      <th>compound</th>\n",
       "      <th>neg</th>\n",
       "      <th>neu</th>\n",
       "      <th>pos</th>\n",
       "      <th>Open</th>\n",
       "      <th>High</th>\n",
       "      <th>Low</th>\n",
       "      <th>Close</th>\n",
       "      <th>Adj Close</th>\n",
       "      <th>Volume</th>\n",
       "    </tr>\n",
       "    <tr>\n",
       "      <th>Date</th>\n",
       "      <th></th>\n",
       "      <th></th>\n",
       "      <th></th>\n",
       "      <th></th>\n",
       "      <th></th>\n",
       "      <th></th>\n",
       "      <th></th>\n",
       "      <th></th>\n",
       "      <th></th>\n",
       "      <th></th>\n",
       "    </tr>\n",
       "  </thead>\n",
       "  <tbody>\n",
       "    <tr>\n",
       "      <th>2022-01-27</th>\n",
       "      <td>0.155158</td>\n",
       "      <td>0.060992</td>\n",
       "      <td>0.831168</td>\n",
       "      <td>0.107847</td>\n",
       "      <td>235.679993</td>\n",
       "      <td>239.949997</td>\n",
       "      <td>216.750000</td>\n",
       "      <td>219.440002</td>\n",
       "      <td>219.356247</td>\n",
       "      <td>57335300.0</td>\n",
       "    </tr>\n",
       "    <tr>\n",
       "      <th>2022-01-28</th>\n",
       "      <td>0.100486</td>\n",
       "      <td>0.045239</td>\n",
       "      <td>0.884761</td>\n",
       "      <td>0.070022</td>\n",
       "      <td>220.119995</td>\n",
       "      <td>228.580002</td>\n",
       "      <td>212.960007</td>\n",
       "      <td>228.399994</td>\n",
       "      <td>228.312820</td>\n",
       "      <td>54377400.0</td>\n",
       "    </tr>\n",
       "    <tr>\n",
       "      <th>2022-01-31</th>\n",
       "      <td>0.149381</td>\n",
       "      <td>0.045764</td>\n",
       "      <td>0.861438</td>\n",
       "      <td>0.092787</td>\n",
       "      <td>231.820007</td>\n",
       "      <td>245.089996</td>\n",
       "      <td>230.520004</td>\n",
       "      <td>244.860001</td>\n",
       "      <td>244.766541</td>\n",
       "      <td>56468000.0</td>\n",
       "    </tr>\n",
       "    <tr>\n",
       "      <th>2022-02-01</th>\n",
       "      <td>0.062527</td>\n",
       "      <td>0.055355</td>\n",
       "      <td>0.869075</td>\n",
       "      <td>0.075570</td>\n",
       "      <td>251.039993</td>\n",
       "      <td>251.449997</td>\n",
       "      <td>238.899994</td>\n",
       "      <td>246.380005</td>\n",
       "      <td>246.285965</td>\n",
       "      <td>51892500.0</td>\n",
       "    </tr>\n",
       "    <tr>\n",
       "      <th>2022-02-02</th>\n",
       "      <td>0.125991</td>\n",
       "      <td>0.055548</td>\n",
       "      <td>0.842992</td>\n",
       "      <td>0.101468</td>\n",
       "      <td>257.940002</td>\n",
       "      <td>258.170013</td>\n",
       "      <td>245.529999</td>\n",
       "      <td>252.419998</td>\n",
       "      <td>252.323669</td>\n",
       "      <td>54341900.0</td>\n",
       "    </tr>\n",
       "  </tbody>\n",
       "</table>\n",
       "</div>"
      ],
      "text/plain": [
       "            compound       neg       neu       pos        Open        High  \\\n",
       "Date                                                                         \n",
       "2022-01-27  0.155158  0.060992  0.831168  0.107847  235.679993  239.949997   \n",
       "2022-01-28  0.100486  0.045239  0.884761  0.070022  220.119995  228.580002   \n",
       "2022-01-31  0.149381  0.045764  0.861438  0.092787  231.820007  245.089996   \n",
       "2022-02-01  0.062527  0.055355  0.869075  0.075570  251.039993  251.449997   \n",
       "2022-02-02  0.125991  0.055548  0.842992  0.101468  257.940002  258.170013   \n",
       "\n",
       "                   Low       Close   Adj Close      Volume  \n",
       "Date                                                        \n",
       "2022-01-27  216.750000  219.440002  219.356247  57335300.0  \n",
       "2022-01-28  212.960007  228.399994  228.312820  54377400.0  \n",
       "2022-01-31  230.520004  244.860001  244.766541  56468000.0  \n",
       "2022-02-01  238.899994  246.380005  246.285965  51892500.0  \n",
       "2022-02-02  245.529999  252.419998  252.323669  54341900.0  "
      ]
     },
     "execution_count": 10,
     "metadata": {},
     "output_type": "execute_result"
    }
   ],
   "source": [
    "combined_df.head()"
   ]
  },
  {
   "cell_type": "markdown",
   "id": "c271f9e3",
   "metadata": {},
   "source": [
    "**Trading strategy logic**: We would long (buy) the stock when our positive sentiment outweighs (is greater than) our negative sentiment. Then we create a column that shows our strategy returns that multiplies our position by the log returns. We implement the shift(1) that ensures that we use the previous days sentiment rather than the current day to prevent hindsight bias."
   ]
  },
  {
   "cell_type": "code",
   "execution_count": 5,
   "id": "22d448c2",
   "metadata": {},
   "outputs": [],
   "source": [
    "# Calculating Log Returns Column\n",
    "combined_df['returns'] = np.log(combined_df['Close'] / combined_df['Close'].shift(1))\n",
    "# Long when the pos sentiment > neg sentiment and short otherwise\n",
    "combined_df['position'] = np.where(combined_df['pos'] > combined_df['neg'], 1, -1)\n",
    "# Create Strategy column by multiplying SHIFTED position (to avoid hindsight bias) and returns\n",
    "combined_df['strategy'] = combined_df['position'].shift(1) * combined_df['returns']\n",
    "combined_df.dropna(inplace=True)"
   ]
  },
  {
   "cell_type": "code",
   "execution_count": 12,
   "id": "2c5ea368",
   "metadata": {},
   "outputs": [
    {
     "data": {
      "text/html": [
       "<div>\n",
       "<style scoped>\n",
       "    .dataframe tbody tr th:only-of-type {\n",
       "        vertical-align: middle;\n",
       "    }\n",
       "\n",
       "    .dataframe tbody tr th {\n",
       "        vertical-align: top;\n",
       "    }\n",
       "\n",
       "    .dataframe thead th {\n",
       "        text-align: right;\n",
       "    }\n",
       "</style>\n",
       "<table border=\"1\" class=\"dataframe\">\n",
       "  <thead>\n",
       "    <tr style=\"text-align: right;\">\n",
       "      <th></th>\n",
       "      <th>compound</th>\n",
       "      <th>neg</th>\n",
       "      <th>neu</th>\n",
       "      <th>pos</th>\n",
       "      <th>Open</th>\n",
       "      <th>High</th>\n",
       "      <th>Low</th>\n",
       "      <th>Close</th>\n",
       "      <th>Adj Close</th>\n",
       "      <th>Volume</th>\n",
       "      <th>returns</th>\n",
       "      <th>position</th>\n",
       "      <th>strategy</th>\n",
       "    </tr>\n",
       "    <tr>\n",
       "      <th>Date</th>\n",
       "      <th></th>\n",
       "      <th></th>\n",
       "      <th></th>\n",
       "      <th></th>\n",
       "      <th></th>\n",
       "      <th></th>\n",
       "      <th></th>\n",
       "      <th></th>\n",
       "      <th></th>\n",
       "      <th></th>\n",
       "      <th></th>\n",
       "      <th></th>\n",
       "      <th></th>\n",
       "    </tr>\n",
       "  </thead>\n",
       "  <tbody>\n",
       "    <tr>\n",
       "      <th>2022-01-28</th>\n",
       "      <td>0.100486</td>\n",
       "      <td>0.045239</td>\n",
       "      <td>0.884761</td>\n",
       "      <td>0.070022</td>\n",
       "      <td>220.119995</td>\n",
       "      <td>228.580002</td>\n",
       "      <td>212.960007</td>\n",
       "      <td>228.399994</td>\n",
       "      <td>228.312820</td>\n",
       "      <td>54377400.0</td>\n",
       "      <td>0.040020</td>\n",
       "      <td>1</td>\n",
       "      <td>0.040020</td>\n",
       "    </tr>\n",
       "    <tr>\n",
       "      <th>2022-01-31</th>\n",
       "      <td>0.149381</td>\n",
       "      <td>0.045764</td>\n",
       "      <td>0.861438</td>\n",
       "      <td>0.092787</td>\n",
       "      <td>231.820007</td>\n",
       "      <td>245.089996</td>\n",
       "      <td>230.520004</td>\n",
       "      <td>244.860001</td>\n",
       "      <td>244.766541</td>\n",
       "      <td>56468000.0</td>\n",
       "      <td>0.069588</td>\n",
       "      <td>1</td>\n",
       "      <td>0.069588</td>\n",
       "    </tr>\n",
       "    <tr>\n",
       "      <th>2022-02-01</th>\n",
       "      <td>0.062527</td>\n",
       "      <td>0.055355</td>\n",
       "      <td>0.869075</td>\n",
       "      <td>0.075570</td>\n",
       "      <td>251.039993</td>\n",
       "      <td>251.449997</td>\n",
       "      <td>238.899994</td>\n",
       "      <td>246.380005</td>\n",
       "      <td>246.285965</td>\n",
       "      <td>51892500.0</td>\n",
       "      <td>0.006188</td>\n",
       "      <td>1</td>\n",
       "      <td>0.006188</td>\n",
       "    </tr>\n",
       "    <tr>\n",
       "      <th>2022-02-02</th>\n",
       "      <td>0.125991</td>\n",
       "      <td>0.055548</td>\n",
       "      <td>0.842992</td>\n",
       "      <td>0.101468</td>\n",
       "      <td>257.940002</td>\n",
       "      <td>258.170013</td>\n",
       "      <td>245.529999</td>\n",
       "      <td>252.419998</td>\n",
       "      <td>252.323669</td>\n",
       "      <td>54341900.0</td>\n",
       "      <td>0.024219</td>\n",
       "      <td>1</td>\n",
       "      <td>0.024219</td>\n",
       "    </tr>\n",
       "    <tr>\n",
       "      <th>2022-02-03</th>\n",
       "      <td>0.135590</td>\n",
       "      <td>0.062278</td>\n",
       "      <td>0.843247</td>\n",
       "      <td>0.094495</td>\n",
       "      <td>244.580002</td>\n",
       "      <td>250.770004</td>\n",
       "      <td>237.800003</td>\n",
       "      <td>239.479996</td>\n",
       "      <td>239.388596</td>\n",
       "      <td>41017800.0</td>\n",
       "      <td>-0.052624</td>\n",
       "      <td>1</td>\n",
       "      <td>-0.052624</td>\n",
       "    </tr>\n",
       "  </tbody>\n",
       "</table>\n",
       "</div>"
      ],
      "text/plain": [
       "            compound       neg       neu       pos        Open        High  \\\n",
       "Date                                                                         \n",
       "2022-01-28  0.100486  0.045239  0.884761  0.070022  220.119995  228.580002   \n",
       "2022-01-31  0.149381  0.045764  0.861438  0.092787  231.820007  245.089996   \n",
       "2022-02-01  0.062527  0.055355  0.869075  0.075570  251.039993  251.449997   \n",
       "2022-02-02  0.125991  0.055548  0.842992  0.101468  257.940002  258.170013   \n",
       "2022-02-03  0.135590  0.062278  0.843247  0.094495  244.580002  250.770004   \n",
       "\n",
       "                   Low       Close   Adj Close      Volume   returns  \\\n",
       "Date                                                                   \n",
       "2022-01-28  212.960007  228.399994  228.312820  54377400.0  0.040020   \n",
       "2022-01-31  230.520004  244.860001  244.766541  56468000.0  0.069588   \n",
       "2022-02-01  238.899994  246.380005  246.285965  51892500.0  0.006188   \n",
       "2022-02-02  245.529999  252.419998  252.323669  54341900.0  0.024219   \n",
       "2022-02-03  237.800003  239.479996  239.388596  41017800.0 -0.052624   \n",
       "\n",
       "            position  strategy  \n",
       "Date                            \n",
       "2022-01-28         1  0.040020  \n",
       "2022-01-31         1  0.069588  \n",
       "2022-02-01         1  0.006188  \n",
       "2022-02-02         1  0.024219  \n",
       "2022-02-03         1 -0.052624  "
      ]
     },
     "execution_count": 12,
     "metadata": {},
     "output_type": "execute_result"
    }
   ],
   "source": [
    "combined_df.head()"
   ]
  },
  {
   "cell_type": "code",
   "execution_count": 6,
   "id": "ecc29e31",
   "metadata": {},
   "outputs": [
    {
     "data": {
      "text/plain": [
       "returns     0.865339\n",
       "strategy    1.174834\n",
       "dtype: float64"
      ]
     },
     "execution_count": 6,
     "metadata": {},
     "output_type": "execute_result"
    }
   ],
   "source": [
    "np.exp(combined_df[['returns','strategy']].sum())"
   ]
  },
  {
   "cell_type": "markdown",
   "id": "07d2dddb",
   "metadata": {},
   "source": [
    "The output shows our strategy outperforms the benchmark by a small margin (0.31). Then we can visualize the performance of our strategy against the benchmark:"
   ]
  },
  {
   "cell_type": "code",
   "execution_count": 23,
   "id": "5e4cf72d",
   "metadata": {},
   "outputs": [],
   "source": [
    "cum_df = np.exp(combined_df[[\"returns\", \"strategy\"]].cumsum())"
   ]
  },
  {
   "cell_type": "code",
   "execution_count": 25,
   "id": "94859370",
   "metadata": {},
   "outputs": [
    {
     "data": {
      "application/vnd.plotly.v1+json": {
       "config": {
        "plotlyServerURL": "https://plot.ly"
       },
       "data": [
        {
         "hovertemplate": "variable=returns<br>Date=%{x}<br>value=%{y}<extra></extra>",
         "legendgroup": "returns",
         "line": {
          "color": "#636efa",
          "dash": "solid"
         },
         "marker": {
          "symbol": "circle"
         },
         "mode": "lines",
         "name": "returns",
         "orientation": "v",
         "showlegend": true,
         "type": "scatter",
         "x": [
          "2022-01-28T00:00:00",
          "2022-01-31T00:00:00",
          "2022-02-01T00:00:00",
          "2022-02-02T00:00:00",
          "2022-02-03T00:00:00",
          "2022-02-04T00:00:00",
          "2022-02-07T00:00:00",
          "2022-02-08T00:00:00",
          "2022-02-09T00:00:00",
          "2022-02-10T00:00:00",
          "2022-02-11T00:00:00",
          "2022-02-14T00:00:00",
          "2022-02-15T00:00:00",
          "2022-02-16T00:00:00",
          "2022-02-17T00:00:00",
          "2022-02-18T00:00:00",
          "2022-02-22T00:00:00",
          "2022-02-23T00:00:00",
          "2022-02-24T00:00:00",
          "2022-02-25T00:00:00",
          "2022-02-28T00:00:00",
          "2022-03-01T00:00:00",
          "2022-03-02T00:00:00",
          "2022-03-03T00:00:00",
          "2022-03-04T00:00:00",
          "2022-03-07T00:00:00",
          "2022-03-08T00:00:00",
          "2022-03-09T00:00:00",
          "2022-03-10T00:00:00",
          "2022-03-11T00:00:00",
          "2022-03-14T00:00:00",
          "2022-03-15T00:00:00",
          "2022-03-16T00:00:00",
          "2022-03-17T00:00:00",
          "2022-03-18T00:00:00",
          "2022-03-21T00:00:00",
          "2022-03-22T00:00:00",
          "2022-03-23T00:00:00",
          "2022-03-24T00:00:00",
          "2022-03-25T00:00:00",
          "2022-03-28T00:00:00",
          "2022-03-29T00:00:00",
          "2022-03-30T00:00:00",
          "2022-03-31T00:00:00",
          "2022-04-01T00:00:00",
          "2022-04-04T00:00:00",
          "2022-04-05T00:00:00",
          "2022-04-06T00:00:00",
          "2022-04-07T00:00:00",
          "2022-04-08T00:00:00",
          "2022-04-11T00:00:00",
          "2022-04-12T00:00:00",
          "2022-04-13T00:00:00",
          "2022-04-14T00:00:00",
          "2022-04-18T00:00:00",
          "2022-04-19T00:00:00",
          "2022-04-20T00:00:00",
          "2022-04-21T00:00:00",
          "2022-04-22T00:00:00",
          "2022-04-25T00:00:00",
          "2022-04-26T00:00:00",
          "2022-04-27T00:00:00",
          "2022-04-28T00:00:00",
          "2022-04-29T00:00:00",
          "2022-05-02T00:00:00",
          "2022-05-03T00:00:00",
          "2022-05-04T00:00:00",
          "2022-05-05T00:00:00",
          "2022-05-06T00:00:00",
          "2022-05-09T00:00:00",
          "2022-05-10T00:00:00",
          "2022-05-11T00:00:00",
          "2022-05-12T00:00:00",
          "2022-05-13T00:00:00",
          "2022-05-16T00:00:00",
          "2022-05-17T00:00:00",
          "2022-05-18T00:00:00",
          "2022-05-19T00:00:00",
          "2022-05-20T00:00:00",
          "2022-05-23T00:00:00",
          "2022-05-24T00:00:00",
          "2022-05-25T00:00:00",
          "2022-05-26T00:00:00",
          "2022-05-27T00:00:00",
          "2022-05-31T00:00:00",
          "2022-06-01T00:00:00",
          "2022-06-02T00:00:00",
          "2022-06-03T00:00:00",
          "2022-06-06T00:00:00",
          "2022-06-07T00:00:00",
          "2022-06-08T00:00:00",
          "2022-06-09T00:00:00",
          "2022-06-10T00:00:00",
          "2022-06-13T00:00:00",
          "2022-06-14T00:00:00",
          "2022-06-15T00:00:00",
          "2022-06-16T00:00:00",
          "2022-06-17T00:00:00",
          "2022-06-21T00:00:00",
          "2022-06-22T00:00:00",
          "2022-06-23T00:00:00",
          "2022-06-24T00:00:00",
          "2022-06-27T00:00:00",
          "2022-06-28T00:00:00",
          "2022-06-29T00:00:00",
          "2022-06-30T00:00:00",
          "2022-07-01T00:00:00",
          "2022-07-05T00:00:00",
          "2022-07-06T00:00:00",
          "2022-07-07T00:00:00",
          "2022-07-08T00:00:00",
          "2022-07-11T00:00:00",
          "2022-07-12T00:00:00",
          "2022-07-13T00:00:00",
          "2022-07-14T00:00:00",
          "2022-07-15T00:00:00",
          "2022-07-18T00:00:00",
          "2022-07-19T00:00:00",
          "2022-07-20T00:00:00",
          "2022-07-21T00:00:00",
          "2022-07-22T00:00:00",
          "2022-07-25T00:00:00",
          "2022-07-26T00:00:00",
          "2022-07-27T00:00:00",
          "2022-07-28T00:00:00",
          "2022-07-29T00:00:00",
          "2022-08-01T00:00:00",
          "2022-08-02T00:00:00",
          "2022-08-03T00:00:00",
          "2022-08-04T00:00:00",
          "2022-08-05T00:00:00"
         ],
         "xaxis": "x",
         "y": [
          1.0408311673140387,
          1.115840311183613,
          1.1227670531429181,
          1.1502916303345612,
          1.0913233369630668,
          1.1082300388979514,
          1.1268683741713148,
          1.144185194302013,
          1.216961287011811,
          1.1768136500241284,
          1.091368952008244,
          1.1058603512080336,
          1.207391584302305,
          1.2081205906035786,
          1.1167973231756414,
          1.0773787620243622,
          1.0658949657956696,
          1.0201877170365239,
          1.082209228424292,
          1.1008476332327854,
          1.1112377114041783,
          1.0698596502939248,
          1.1037185301386112,
          1.0806598466611315,
          1.0452059700081076,
          0.9730222470694418,
          0.980404652734608,
          1.0487604667754196,
          1.032537364702021,
          1.0071089935346238,
          0.9720196895673664,
          1.0468920578365397,
          1.116296044424604,
          1.1286000770449238,
          1.2054775603182484,
          1.2182828716896064,
          1.2087130299098408,
          1.1681552747263444,
          1.2828107768325636,
          1.2619395294696834,
          1.2859551554040616,
          1.3058694603100431,
          1.2618482993793294,
          1.2434377611913314,
          1.2172803141875306,
          1.2468100759184546,
          1.1816897314692354,
          1.112240268906254,
          1.1031717058775263,
          1.0535453876653023,
          0.998769575877429,
          0.9799489194936173,
          1.0118027538692822,
          0.9687386049305969,
          0.992663139844881,
          1.0115748872487869,
          0.9789464315266716,
          0.919750271534682,
          0.8893091128569064,
          0.906944960163324,
          0.8561793783837532,
          0.8391815158936445,
          0.901476508947085,
          0.8451968609060981,
          0.8901294187836635,
          0.8932737973551615,
          0.9266313984488099,
          0.8587313176489891,
          0.8510298848081036,
          0.7724206986611702,
          0.8018136847916933,
          0.7578381389061566,
          0.7371035280734177,
          0.8068720178121186,
          0.7867298462856417,
          0.8283357740163906,
          0.7718738744000855,
          0.7803499981225512,
          0.7607546508571593,
          0.7700510109712526,
          0.7361465160813893,
          0.7735599622285172,
          0.8134797325957043,
          0.8572274813958756,
          0.8508931787428322,
          0.8348523282447521,
          0.8928180641141706,
          0.8530805453223018,
          0.8560882178285286,
          0.8624680659916192,
          0.8497994606855325,
          0.8224571350692079,
          0.77351441671847,
          0.7130422870938624,
          0.7216551168815994,
          0.7531443785714979,
          0.710946011534487,
          0.7236602318857507,
          0.7549216269551535,
          0.7455341062858362,
          0.7393820552081112,
          0.7804410891426452,
          0.7687294958285871,
          0.7283084467103621,
          0.7082573662039795,
          0.69080384000801,
          0.6618209720733007,
          0.6819175980897305,
          0.6894823248653448,
          0.722657674383675,
          0.7217462774368234,
          0.6904848823674204,
          0.6872949582858752,
          0.6910317066285053,
          0.7005103878530468,
          0.7182828716896059,
          0.7337312828814242,
          0.7743346531100973,
          0.8114746871266828,
          0.8225482956244319,
          0.7892362400408305,
          0.7757929438531636,
          0.7534177907020401,
          0.8106999267099726,
          0.8195406231182051,
          0.8276977892000813,
          0.8403663945061679,
          0.8442398489140692,
          0.8609642297385056,
          0.8756379500487436,
          0.8653390324325747
         ],
         "yaxis": "y"
        },
        {
         "hovertemplate": "variable=strategy<br>Date=%{x}<br>value=%{y}<extra></extra>",
         "legendgroup": "strategy",
         "line": {
          "color": "#EF553B",
          "dash": "solid"
         },
         "marker": {
          "symbol": "circle"
         },
         "mode": "lines",
         "name": "strategy",
         "orientation": "v",
         "showlegend": true,
         "type": "scatter",
         "x": [
          "2022-01-28T00:00:00",
          "2022-01-31T00:00:00",
          "2022-02-01T00:00:00",
          "2022-02-02T00:00:00",
          "2022-02-03T00:00:00",
          "2022-02-04T00:00:00",
          "2022-02-07T00:00:00",
          "2022-02-08T00:00:00",
          "2022-02-09T00:00:00",
          "2022-02-10T00:00:00",
          "2022-02-11T00:00:00",
          "2022-02-14T00:00:00",
          "2022-02-15T00:00:00",
          "2022-02-16T00:00:00",
          "2022-02-17T00:00:00",
          "2022-02-18T00:00:00",
          "2022-02-22T00:00:00",
          "2022-02-23T00:00:00",
          "2022-02-24T00:00:00",
          "2022-02-25T00:00:00",
          "2022-02-28T00:00:00",
          "2022-03-01T00:00:00",
          "2022-03-02T00:00:00",
          "2022-03-03T00:00:00",
          "2022-03-04T00:00:00",
          "2022-03-07T00:00:00",
          "2022-03-08T00:00:00",
          "2022-03-09T00:00:00",
          "2022-03-10T00:00:00",
          "2022-03-11T00:00:00",
          "2022-03-14T00:00:00",
          "2022-03-15T00:00:00",
          "2022-03-16T00:00:00",
          "2022-03-17T00:00:00",
          "2022-03-18T00:00:00",
          "2022-03-21T00:00:00",
          "2022-03-22T00:00:00",
          "2022-03-23T00:00:00",
          "2022-03-24T00:00:00",
          "2022-03-25T00:00:00",
          "2022-03-28T00:00:00",
          "2022-03-29T00:00:00",
          "2022-03-30T00:00:00",
          "2022-03-31T00:00:00",
          "2022-04-01T00:00:00",
          "2022-04-04T00:00:00",
          "2022-04-05T00:00:00",
          "2022-04-06T00:00:00",
          "2022-04-07T00:00:00",
          "2022-04-08T00:00:00",
          "2022-04-11T00:00:00",
          "2022-04-12T00:00:00",
          "2022-04-13T00:00:00",
          "2022-04-14T00:00:00",
          "2022-04-18T00:00:00",
          "2022-04-19T00:00:00",
          "2022-04-20T00:00:00",
          "2022-04-21T00:00:00",
          "2022-04-22T00:00:00",
          "2022-04-25T00:00:00",
          "2022-04-26T00:00:00",
          "2022-04-27T00:00:00",
          "2022-04-28T00:00:00",
          "2022-04-29T00:00:00",
          "2022-05-02T00:00:00",
          "2022-05-03T00:00:00",
          "2022-05-04T00:00:00",
          "2022-05-05T00:00:00",
          "2022-05-06T00:00:00",
          "2022-05-09T00:00:00",
          "2022-05-10T00:00:00",
          "2022-05-11T00:00:00",
          "2022-05-12T00:00:00",
          "2022-05-13T00:00:00",
          "2022-05-16T00:00:00",
          "2022-05-17T00:00:00",
          "2022-05-18T00:00:00",
          "2022-05-19T00:00:00",
          "2022-05-20T00:00:00",
          "2022-05-23T00:00:00",
          "2022-05-24T00:00:00",
          "2022-05-25T00:00:00",
          "2022-05-26T00:00:00",
          "2022-05-27T00:00:00",
          "2022-05-31T00:00:00",
          "2022-06-01T00:00:00",
          "2022-06-02T00:00:00",
          "2022-06-03T00:00:00",
          "2022-06-06T00:00:00",
          "2022-06-07T00:00:00",
          "2022-06-08T00:00:00",
          "2022-06-09T00:00:00",
          "2022-06-10T00:00:00",
          "2022-06-13T00:00:00",
          "2022-06-14T00:00:00",
          "2022-06-15T00:00:00",
          "2022-06-16T00:00:00",
          "2022-06-17T00:00:00",
          "2022-06-21T00:00:00",
          "2022-06-22T00:00:00",
          "2022-06-23T00:00:00",
          "2022-06-24T00:00:00",
          "2022-06-27T00:00:00",
          "2022-06-28T00:00:00",
          "2022-06-29T00:00:00",
          "2022-06-30T00:00:00",
          "2022-07-01T00:00:00",
          "2022-07-05T00:00:00",
          "2022-07-06T00:00:00",
          "2022-07-07T00:00:00",
          "2022-07-08T00:00:00",
          "2022-07-11T00:00:00",
          "2022-07-12T00:00:00",
          "2022-07-13T00:00:00",
          "2022-07-14T00:00:00",
          "2022-07-15T00:00:00",
          "2022-07-18T00:00:00",
          "2022-07-19T00:00:00",
          "2022-07-20T00:00:00",
          "2022-07-21T00:00:00",
          "2022-07-22T00:00:00",
          "2022-07-25T00:00:00",
          "2022-07-26T00:00:00",
          "2022-07-27T00:00:00",
          "2022-07-28T00:00:00",
          "2022-07-29T00:00:00",
          "2022-08-01T00:00:00",
          "2022-08-02T00:00:00",
          "2022-08-03T00:00:00",
          "2022-08-04T00:00:00",
          "2022-08-05T00:00:00"
         ],
         "xaxis": "x",
         "y": [
          1.0408311673140387,
          1.115840311183613,
          1.1227670531429181,
          1.1502916303345612,
          1.0913233369630668,
          1.1082300388979514,
          1.1268683741713148,
          1.144185194302013,
          1.216961287011811,
          1.1768136500241284,
          1.091368952008244,
          1.1058603512080336,
          1.207391584302305,
          1.2081205906035786,
          1.1167973231756414,
          1.0773787620243622,
          1.0658949657956696,
          1.0201877170365239,
          1.082209228424292,
          1.1008476332327854,
          1.0905547023443722,
          1.0499467940142464,
          1.017737474906976,
          0.9964750917393198,
          0.9637831164619088,
          1.0352814338551444,
          1.0431362054653028,
          1.1158657914389487,
          1.098604648205368,
          1.0715492333450485,
          1.0342147273421156,
          1.1138778316660893,
          1.187722657893404,
          1.200813968571788,
          1.2826104859218195,
          1.2962351498567182,
          1.2860529782266634,
          1.2429001201427112,
          1.3648918967720864,
          1.3426851949610372,
          1.368237469564372,
          1.389425998603032,
          1.3425881274797575,
          1.32299958422628,
          1.2951684433436892,
          1.3265876777530439,
          1.257300584084242,
          1.1834073720850087,
          1.1737585537114685,
          1.1209568772539762,
          1.0626762149781401,
          1.0426513119650676,
          1.0765433256631565,
          1.0307237012966317,
          1.0561790563874078,
          1.0763008789130388,
          1.0415846794363994,
          0.9786008313488523,
          0.9462118839233878,
          0.9649761674139538,
          0.9109623311902338,
          0.8928768542093808,
          0.9591578153329341,
          0.8992770932875547,
          0.9470846774269389,
          0.9504302502192243,
          0.9859222497024958,
          0.9136775572290853,
          0.9054833453718901,
          0.9976343052991179,
          1.0355973626716315,
          0.9787999292966467,
          0.9520197574167101,
          1.0421305466703907,
          1.01611555078426,
          1.0698524598027983,
          0.9969280442644594,
          1.007875539348613,
          0.982566804497141,
          0.9945736911332825,
          0.9507837107966685,
          0.9991057423275828,
          1.0506648634736084,
          1.1071680812904114,
          1.0989868950045227,
          1.0782690364971097,
          1.1531357596901486,
          1.1018120289525462,
          1.1056966442619465,
          1.1139366556975936,
          1.0975742831258164,
          1.062259794442662,
          0.9990469171778241,
          0.9209430145602849,
          0.9320670749031031,
          0.9727376159241229,
          0.9182355309117787,
          0.9346568184427032,
          0.9750330540961522,
          0.9629084273511046,
          0.9549626314736392,
          1.0079931896481298,
          0.9928668636963941,
          0.9406603066654684,
          0.9147629610788549,
          0.9378749335081155,
          0.8985261288795471,
          0.9258104615617134,
          0.9360807687180894,
          0.9811215269212454,
          0.979884162127619,
          0.9374418983125433,
          0.9331110743324096,
          0.9381842983077426,
          0.951053099852199,
          0.9751820437450032,
          0.9961556932533275,
          1.0512811586140596,
          1.101704599997058,
          1.1167387663291402,
          1.0715124081271843,
          1.0532610178077677,
          1.022883225939094,
          1.100652740797349,
          1.1126553775457786,
          1.123730014300209,
          1.140929639824799,
          1.146188463798932,
          1.1688944428993098,
          1.1888163276128074,
          1.174833926075552
         ],
         "yaxis": "y"
        }
       ],
       "layout": {
        "legend": {
         "title": {
          "text": ""
         },
         "tracegroupgap": 0
        },
        "margin": {
         "t": 60
        },
        "template": {
         "data": {
          "bar": [
           {
            "error_x": {
             "color": "#2a3f5f"
            },
            "error_y": {
             "color": "#2a3f5f"
            },
            "marker": {
             "line": {
              "color": "#E5ECF6",
              "width": 0.5
             },
             "pattern": {
              "fillmode": "overlay",
              "size": 10,
              "solidity": 0.2
             }
            },
            "type": "bar"
           }
          ],
          "barpolar": [
           {
            "marker": {
             "line": {
              "color": "#E5ECF6",
              "width": 0.5
             },
             "pattern": {
              "fillmode": "overlay",
              "size": 10,
              "solidity": 0.2
             }
            },
            "type": "barpolar"
           }
          ],
          "carpet": [
           {
            "aaxis": {
             "endlinecolor": "#2a3f5f",
             "gridcolor": "white",
             "linecolor": "white",
             "minorgridcolor": "white",
             "startlinecolor": "#2a3f5f"
            },
            "baxis": {
             "endlinecolor": "#2a3f5f",
             "gridcolor": "white",
             "linecolor": "white",
             "minorgridcolor": "white",
             "startlinecolor": "#2a3f5f"
            },
            "type": "carpet"
           }
          ],
          "choropleth": [
           {
            "colorbar": {
             "outlinewidth": 0,
             "ticks": ""
            },
            "type": "choropleth"
           }
          ],
          "contour": [
           {
            "colorbar": {
             "outlinewidth": 0,
             "ticks": ""
            },
            "colorscale": [
             [
              0,
              "#0d0887"
             ],
             [
              0.1111111111111111,
              "#46039f"
             ],
             [
              0.2222222222222222,
              "#7201a8"
             ],
             [
              0.3333333333333333,
              "#9c179e"
             ],
             [
              0.4444444444444444,
              "#bd3786"
             ],
             [
              0.5555555555555556,
              "#d8576b"
             ],
             [
              0.6666666666666666,
              "#ed7953"
             ],
             [
              0.7777777777777778,
              "#fb9f3a"
             ],
             [
              0.8888888888888888,
              "#fdca26"
             ],
             [
              1,
              "#f0f921"
             ]
            ],
            "type": "contour"
           }
          ],
          "contourcarpet": [
           {
            "colorbar": {
             "outlinewidth": 0,
             "ticks": ""
            },
            "type": "contourcarpet"
           }
          ],
          "heatmap": [
           {
            "colorbar": {
             "outlinewidth": 0,
             "ticks": ""
            },
            "colorscale": [
             [
              0,
              "#0d0887"
             ],
             [
              0.1111111111111111,
              "#46039f"
             ],
             [
              0.2222222222222222,
              "#7201a8"
             ],
             [
              0.3333333333333333,
              "#9c179e"
             ],
             [
              0.4444444444444444,
              "#bd3786"
             ],
             [
              0.5555555555555556,
              "#d8576b"
             ],
             [
              0.6666666666666666,
              "#ed7953"
             ],
             [
              0.7777777777777778,
              "#fb9f3a"
             ],
             [
              0.8888888888888888,
              "#fdca26"
             ],
             [
              1,
              "#f0f921"
             ]
            ],
            "type": "heatmap"
           }
          ],
          "heatmapgl": [
           {
            "colorbar": {
             "outlinewidth": 0,
             "ticks": ""
            },
            "colorscale": [
             [
              0,
              "#0d0887"
             ],
             [
              0.1111111111111111,
              "#46039f"
             ],
             [
              0.2222222222222222,
              "#7201a8"
             ],
             [
              0.3333333333333333,
              "#9c179e"
             ],
             [
              0.4444444444444444,
              "#bd3786"
             ],
             [
              0.5555555555555556,
              "#d8576b"
             ],
             [
              0.6666666666666666,
              "#ed7953"
             ],
             [
              0.7777777777777778,
              "#fb9f3a"
             ],
             [
              0.8888888888888888,
              "#fdca26"
             ],
             [
              1,
              "#f0f921"
             ]
            ],
            "type": "heatmapgl"
           }
          ],
          "histogram": [
           {
            "marker": {
             "pattern": {
              "fillmode": "overlay",
              "size": 10,
              "solidity": 0.2
             }
            },
            "type": "histogram"
           }
          ],
          "histogram2d": [
           {
            "colorbar": {
             "outlinewidth": 0,
             "ticks": ""
            },
            "colorscale": [
             [
              0,
              "#0d0887"
             ],
             [
              0.1111111111111111,
              "#46039f"
             ],
             [
              0.2222222222222222,
              "#7201a8"
             ],
             [
              0.3333333333333333,
              "#9c179e"
             ],
             [
              0.4444444444444444,
              "#bd3786"
             ],
             [
              0.5555555555555556,
              "#d8576b"
             ],
             [
              0.6666666666666666,
              "#ed7953"
             ],
             [
              0.7777777777777778,
              "#fb9f3a"
             ],
             [
              0.8888888888888888,
              "#fdca26"
             ],
             [
              1,
              "#f0f921"
             ]
            ],
            "type": "histogram2d"
           }
          ],
          "histogram2dcontour": [
           {
            "colorbar": {
             "outlinewidth": 0,
             "ticks": ""
            },
            "colorscale": [
             [
              0,
              "#0d0887"
             ],
             [
              0.1111111111111111,
              "#46039f"
             ],
             [
              0.2222222222222222,
              "#7201a8"
             ],
             [
              0.3333333333333333,
              "#9c179e"
             ],
             [
              0.4444444444444444,
              "#bd3786"
             ],
             [
              0.5555555555555556,
              "#d8576b"
             ],
             [
              0.6666666666666666,
              "#ed7953"
             ],
             [
              0.7777777777777778,
              "#fb9f3a"
             ],
             [
              0.8888888888888888,
              "#fdca26"
             ],
             [
              1,
              "#f0f921"
             ]
            ],
            "type": "histogram2dcontour"
           }
          ],
          "mesh3d": [
           {
            "colorbar": {
             "outlinewidth": 0,
             "ticks": ""
            },
            "type": "mesh3d"
           }
          ],
          "parcoords": [
           {
            "line": {
             "colorbar": {
              "outlinewidth": 0,
              "ticks": ""
             }
            },
            "type": "parcoords"
           }
          ],
          "pie": [
           {
            "automargin": true,
            "type": "pie"
           }
          ],
          "scatter": [
           {
            "marker": {
             "colorbar": {
              "outlinewidth": 0,
              "ticks": ""
             }
            },
            "type": "scatter"
           }
          ],
          "scatter3d": [
           {
            "line": {
             "colorbar": {
              "outlinewidth": 0,
              "ticks": ""
             }
            },
            "marker": {
             "colorbar": {
              "outlinewidth": 0,
              "ticks": ""
             }
            },
            "type": "scatter3d"
           }
          ],
          "scattercarpet": [
           {
            "marker": {
             "colorbar": {
              "outlinewidth": 0,
              "ticks": ""
             }
            },
            "type": "scattercarpet"
           }
          ],
          "scattergeo": [
           {
            "marker": {
             "colorbar": {
              "outlinewidth": 0,
              "ticks": ""
             }
            },
            "type": "scattergeo"
           }
          ],
          "scattergl": [
           {
            "marker": {
             "colorbar": {
              "outlinewidth": 0,
              "ticks": ""
             }
            },
            "type": "scattergl"
           }
          ],
          "scattermapbox": [
           {
            "marker": {
             "colorbar": {
              "outlinewidth": 0,
              "ticks": ""
             }
            },
            "type": "scattermapbox"
           }
          ],
          "scatterpolar": [
           {
            "marker": {
             "colorbar": {
              "outlinewidth": 0,
              "ticks": ""
             }
            },
            "type": "scatterpolar"
           }
          ],
          "scatterpolargl": [
           {
            "marker": {
             "colorbar": {
              "outlinewidth": 0,
              "ticks": ""
             }
            },
            "type": "scatterpolargl"
           }
          ],
          "scatterternary": [
           {
            "marker": {
             "colorbar": {
              "outlinewidth": 0,
              "ticks": ""
             }
            },
            "type": "scatterternary"
           }
          ],
          "surface": [
           {
            "colorbar": {
             "outlinewidth": 0,
             "ticks": ""
            },
            "colorscale": [
             [
              0,
              "#0d0887"
             ],
             [
              0.1111111111111111,
              "#46039f"
             ],
             [
              0.2222222222222222,
              "#7201a8"
             ],
             [
              0.3333333333333333,
              "#9c179e"
             ],
             [
              0.4444444444444444,
              "#bd3786"
             ],
             [
              0.5555555555555556,
              "#d8576b"
             ],
             [
              0.6666666666666666,
              "#ed7953"
             ],
             [
              0.7777777777777778,
              "#fb9f3a"
             ],
             [
              0.8888888888888888,
              "#fdca26"
             ],
             [
              1,
              "#f0f921"
             ]
            ],
            "type": "surface"
           }
          ],
          "table": [
           {
            "cells": {
             "fill": {
              "color": "#EBF0F8"
             },
             "line": {
              "color": "white"
             }
            },
            "header": {
             "fill": {
              "color": "#C8D4E3"
             },
             "line": {
              "color": "white"
             }
            },
            "type": "table"
           }
          ]
         },
         "layout": {
          "annotationdefaults": {
           "arrowcolor": "#2a3f5f",
           "arrowhead": 0,
           "arrowwidth": 1
          },
          "autotypenumbers": "strict",
          "coloraxis": {
           "colorbar": {
            "outlinewidth": 0,
            "ticks": ""
           }
          },
          "colorscale": {
           "diverging": [
            [
             0,
             "#8e0152"
            ],
            [
             0.1,
             "#c51b7d"
            ],
            [
             0.2,
             "#de77ae"
            ],
            [
             0.3,
             "#f1b6da"
            ],
            [
             0.4,
             "#fde0ef"
            ],
            [
             0.5,
             "#f7f7f7"
            ],
            [
             0.6,
             "#e6f5d0"
            ],
            [
             0.7,
             "#b8e186"
            ],
            [
             0.8,
             "#7fbc41"
            ],
            [
             0.9,
             "#4d9221"
            ],
            [
             1,
             "#276419"
            ]
           ],
           "sequential": [
            [
             0,
             "#0d0887"
            ],
            [
             0.1111111111111111,
             "#46039f"
            ],
            [
             0.2222222222222222,
             "#7201a8"
            ],
            [
             0.3333333333333333,
             "#9c179e"
            ],
            [
             0.4444444444444444,
             "#bd3786"
            ],
            [
             0.5555555555555556,
             "#d8576b"
            ],
            [
             0.6666666666666666,
             "#ed7953"
            ],
            [
             0.7777777777777778,
             "#fb9f3a"
            ],
            [
             0.8888888888888888,
             "#fdca26"
            ],
            [
             1,
             "#f0f921"
            ]
           ],
           "sequentialminus": [
            [
             0,
             "#0d0887"
            ],
            [
             0.1111111111111111,
             "#46039f"
            ],
            [
             0.2222222222222222,
             "#7201a8"
            ],
            [
             0.3333333333333333,
             "#9c179e"
            ],
            [
             0.4444444444444444,
             "#bd3786"
            ],
            [
             0.5555555555555556,
             "#d8576b"
            ],
            [
             0.6666666666666666,
             "#ed7953"
            ],
            [
             0.7777777777777778,
             "#fb9f3a"
            ],
            [
             0.8888888888888888,
             "#fdca26"
            ],
            [
             1,
             "#f0f921"
            ]
           ]
          },
          "colorway": [
           "#636efa",
           "#EF553B",
           "#00cc96",
           "#ab63fa",
           "#FFA15A",
           "#19d3f3",
           "#FF6692",
           "#B6E880",
           "#FF97FF",
           "#FECB52"
          ],
          "font": {
           "color": "#2a3f5f"
          },
          "geo": {
           "bgcolor": "white",
           "lakecolor": "white",
           "landcolor": "#E5ECF6",
           "showlakes": true,
           "showland": true,
           "subunitcolor": "white"
          },
          "hoverlabel": {
           "align": "left"
          },
          "hovermode": "closest",
          "mapbox": {
           "style": "light"
          },
          "paper_bgcolor": "white",
          "plot_bgcolor": "#E5ECF6",
          "polar": {
           "angularaxis": {
            "gridcolor": "white",
            "linecolor": "white",
            "ticks": ""
           },
           "bgcolor": "#E5ECF6",
           "radialaxis": {
            "gridcolor": "white",
            "linecolor": "white",
            "ticks": ""
           }
          },
          "scene": {
           "xaxis": {
            "backgroundcolor": "#E5ECF6",
            "gridcolor": "white",
            "gridwidth": 2,
            "linecolor": "white",
            "showbackground": true,
            "ticks": "",
            "zerolinecolor": "white"
           },
           "yaxis": {
            "backgroundcolor": "#E5ECF6",
            "gridcolor": "white",
            "gridwidth": 2,
            "linecolor": "white",
            "showbackground": true,
            "ticks": "",
            "zerolinecolor": "white"
           },
           "zaxis": {
            "backgroundcolor": "#E5ECF6",
            "gridcolor": "white",
            "gridwidth": 2,
            "linecolor": "white",
            "showbackground": true,
            "ticks": "",
            "zerolinecolor": "white"
           }
          },
          "shapedefaults": {
           "line": {
            "color": "#2a3f5f"
           }
          },
          "ternary": {
           "aaxis": {
            "gridcolor": "white",
            "linecolor": "white",
            "ticks": ""
           },
           "baxis": {
            "gridcolor": "white",
            "linecolor": "white",
            "ticks": ""
           },
           "bgcolor": "#E5ECF6",
           "caxis": {
            "gridcolor": "white",
            "linecolor": "white",
            "ticks": ""
           }
          },
          "title": {
           "x": 0.05
          },
          "xaxis": {
           "automargin": true,
           "gridcolor": "white",
           "linecolor": "white",
           "ticks": "",
           "title": {
            "standoff": 15
           },
           "zerolinecolor": "white",
           "zerolinewidth": 2
          },
          "yaxis": {
           "automargin": true,
           "gridcolor": "white",
           "linecolor": "white",
           "ticks": "",
           "title": {
            "standoff": 15
           },
           "zerolinecolor": "white",
           "zerolinewidth": 2
          }
         }
        },
        "xaxis": {
         "anchor": "y",
         "domain": [
          0,
          1
         ],
         "title": {
          "text": "Date"
         }
        },
        "yaxis": {
         "anchor": "x",
         "domain": [
          0,
          1
         ],
         "title": {
          "text": "Cumulative Returns"
         }
        }
       }
      },
      "text/html": [
       "<div>                            <div id=\"3360803e-9183-4696-8cb0-6fedd33e4c44\" class=\"plotly-graph-div\" style=\"height:525px; width:100%;\"></div>            <script type=\"text/javascript\">                require([\"plotly\"], function(Plotly) {                    window.PLOTLYENV=window.PLOTLYENV || {};                                    if (document.getElementById(\"3360803e-9183-4696-8cb0-6fedd33e4c44\")) {                    Plotly.newPlot(                        \"3360803e-9183-4696-8cb0-6fedd33e4c44\",                        [{\"hovertemplate\":\"variable=returns<br>Date=%{x}<br>value=%{y}<extra></extra>\",\"legendgroup\":\"returns\",\"line\":{\"color\":\"#636efa\",\"dash\":\"solid\"},\"marker\":{\"symbol\":\"circle\"},\"mode\":\"lines\",\"name\":\"returns\",\"orientation\":\"v\",\"showlegend\":true,\"x\":[\"2022-01-28T00:00:00\",\"2022-01-31T00:00:00\",\"2022-02-01T00:00:00\",\"2022-02-02T00:00:00\",\"2022-02-03T00:00:00\",\"2022-02-04T00:00:00\",\"2022-02-07T00:00:00\",\"2022-02-08T00:00:00\",\"2022-02-09T00:00:00\",\"2022-02-10T00:00:00\",\"2022-02-11T00:00:00\",\"2022-02-14T00:00:00\",\"2022-02-15T00:00:00\",\"2022-02-16T00:00:00\",\"2022-02-17T00:00:00\",\"2022-02-18T00:00:00\",\"2022-02-22T00:00:00\",\"2022-02-23T00:00:00\",\"2022-02-24T00:00:00\",\"2022-02-25T00:00:00\",\"2022-02-28T00:00:00\",\"2022-03-01T00:00:00\",\"2022-03-02T00:00:00\",\"2022-03-03T00:00:00\",\"2022-03-04T00:00:00\",\"2022-03-07T00:00:00\",\"2022-03-08T00:00:00\",\"2022-03-09T00:00:00\",\"2022-03-10T00:00:00\",\"2022-03-11T00:00:00\",\"2022-03-14T00:00:00\",\"2022-03-15T00:00:00\",\"2022-03-16T00:00:00\",\"2022-03-17T00:00:00\",\"2022-03-18T00:00:00\",\"2022-03-21T00:00:00\",\"2022-03-22T00:00:00\",\"2022-03-23T00:00:00\",\"2022-03-24T00:00:00\",\"2022-03-25T00:00:00\",\"2022-03-28T00:00:00\",\"2022-03-29T00:00:00\",\"2022-03-30T00:00:00\",\"2022-03-31T00:00:00\",\"2022-04-01T00:00:00\",\"2022-04-04T00:00:00\",\"2022-04-05T00:00:00\",\"2022-04-06T00:00:00\",\"2022-04-07T00:00:00\",\"2022-04-08T00:00:00\",\"2022-04-11T00:00:00\",\"2022-04-12T00:00:00\",\"2022-04-13T00:00:00\",\"2022-04-14T00:00:00\",\"2022-04-18T00:00:00\",\"2022-04-19T00:00:00\",\"2022-04-20T00:00:00\",\"2022-04-21T00:00:00\",\"2022-04-22T00:00:00\",\"2022-04-25T00:00:00\",\"2022-04-26T00:00:00\",\"2022-04-27T00:00:00\",\"2022-04-28T00:00:00\",\"2022-04-29T00:00:00\",\"2022-05-02T00:00:00\",\"2022-05-03T00:00:00\",\"2022-05-04T00:00:00\",\"2022-05-05T00:00:00\",\"2022-05-06T00:00:00\",\"2022-05-09T00:00:00\",\"2022-05-10T00:00:00\",\"2022-05-11T00:00:00\",\"2022-05-12T00:00:00\",\"2022-05-13T00:00:00\",\"2022-05-16T00:00:00\",\"2022-05-17T00:00:00\",\"2022-05-18T00:00:00\",\"2022-05-19T00:00:00\",\"2022-05-20T00:00:00\",\"2022-05-23T00:00:00\",\"2022-05-24T00:00:00\",\"2022-05-25T00:00:00\",\"2022-05-26T00:00:00\",\"2022-05-27T00:00:00\",\"2022-05-31T00:00:00\",\"2022-06-01T00:00:00\",\"2022-06-02T00:00:00\",\"2022-06-03T00:00:00\",\"2022-06-06T00:00:00\",\"2022-06-07T00:00:00\",\"2022-06-08T00:00:00\",\"2022-06-09T00:00:00\",\"2022-06-10T00:00:00\",\"2022-06-13T00:00:00\",\"2022-06-14T00:00:00\",\"2022-06-15T00:00:00\",\"2022-06-16T00:00:00\",\"2022-06-17T00:00:00\",\"2022-06-21T00:00:00\",\"2022-06-22T00:00:00\",\"2022-06-23T00:00:00\",\"2022-06-24T00:00:00\",\"2022-06-27T00:00:00\",\"2022-06-28T00:00:00\",\"2022-06-29T00:00:00\",\"2022-06-30T00:00:00\",\"2022-07-01T00:00:00\",\"2022-07-05T00:00:00\",\"2022-07-06T00:00:00\",\"2022-07-07T00:00:00\",\"2022-07-08T00:00:00\",\"2022-07-11T00:00:00\",\"2022-07-12T00:00:00\",\"2022-07-13T00:00:00\",\"2022-07-14T00:00:00\",\"2022-07-15T00:00:00\",\"2022-07-18T00:00:00\",\"2022-07-19T00:00:00\",\"2022-07-20T00:00:00\",\"2022-07-21T00:00:00\",\"2022-07-22T00:00:00\",\"2022-07-25T00:00:00\",\"2022-07-26T00:00:00\",\"2022-07-27T00:00:00\",\"2022-07-28T00:00:00\",\"2022-07-29T00:00:00\",\"2022-08-01T00:00:00\",\"2022-08-02T00:00:00\",\"2022-08-03T00:00:00\",\"2022-08-04T00:00:00\",\"2022-08-05T00:00:00\"],\"xaxis\":\"x\",\"y\":[1.0408311673140387,1.115840311183613,1.1227670531429181,1.1502916303345612,1.0913233369630668,1.1082300388979514,1.1268683741713148,1.144185194302013,1.216961287011811,1.1768136500241284,1.091368952008244,1.1058603512080336,1.207391584302305,1.2081205906035786,1.1167973231756414,1.0773787620243622,1.0658949657956696,1.0201877170365239,1.082209228424292,1.1008476332327854,1.1112377114041783,1.0698596502939248,1.1037185301386112,1.0806598466611315,1.0452059700081076,0.9730222470694418,0.980404652734608,1.0487604667754196,1.032537364702021,1.0071089935346238,0.9720196895673664,1.0468920578365397,1.116296044424604,1.1286000770449238,1.2054775603182484,1.2182828716896064,1.2087130299098408,1.1681552747263444,1.2828107768325636,1.2619395294696834,1.2859551554040616,1.3058694603100431,1.2618482993793294,1.2434377611913314,1.2172803141875306,1.2468100759184546,1.1816897314692354,1.112240268906254,1.1031717058775263,1.0535453876653023,0.998769575877429,0.9799489194936173,1.0118027538692822,0.9687386049305969,0.992663139844881,1.0115748872487869,0.9789464315266716,0.919750271534682,0.8893091128569064,0.906944960163324,0.8561793783837532,0.8391815158936445,0.901476508947085,0.8451968609060981,0.8901294187836635,0.8932737973551615,0.9266313984488099,0.8587313176489891,0.8510298848081036,0.7724206986611702,0.8018136847916933,0.7578381389061566,0.7371035280734177,0.8068720178121186,0.7867298462856417,0.8283357740163906,0.7718738744000855,0.7803499981225512,0.7607546508571593,0.7700510109712526,0.7361465160813893,0.7735599622285172,0.8134797325957043,0.8572274813958756,0.8508931787428322,0.8348523282447521,0.8928180641141706,0.8530805453223018,0.8560882178285286,0.8624680659916192,0.8497994606855325,0.8224571350692079,0.77351441671847,0.7130422870938624,0.7216551168815994,0.7531443785714979,0.710946011534487,0.7236602318857507,0.7549216269551535,0.7455341062858362,0.7393820552081112,0.7804410891426452,0.7687294958285871,0.7283084467103621,0.7082573662039795,0.69080384000801,0.6618209720733007,0.6819175980897305,0.6894823248653448,0.722657674383675,0.7217462774368234,0.6904848823674204,0.6872949582858752,0.6910317066285053,0.7005103878530468,0.7182828716896059,0.7337312828814242,0.7743346531100973,0.8114746871266828,0.8225482956244319,0.7892362400408305,0.7757929438531636,0.7534177907020401,0.8106999267099726,0.8195406231182051,0.8276977892000813,0.8403663945061679,0.8442398489140692,0.8609642297385056,0.8756379500487436,0.8653390324325747],\"yaxis\":\"y\",\"type\":\"scatter\"},{\"hovertemplate\":\"variable=strategy<br>Date=%{x}<br>value=%{y}<extra></extra>\",\"legendgroup\":\"strategy\",\"line\":{\"color\":\"#EF553B\",\"dash\":\"solid\"},\"marker\":{\"symbol\":\"circle\"},\"mode\":\"lines\",\"name\":\"strategy\",\"orientation\":\"v\",\"showlegend\":true,\"x\":[\"2022-01-28T00:00:00\",\"2022-01-31T00:00:00\",\"2022-02-01T00:00:00\",\"2022-02-02T00:00:00\",\"2022-02-03T00:00:00\",\"2022-02-04T00:00:00\",\"2022-02-07T00:00:00\",\"2022-02-08T00:00:00\",\"2022-02-09T00:00:00\",\"2022-02-10T00:00:00\",\"2022-02-11T00:00:00\",\"2022-02-14T00:00:00\",\"2022-02-15T00:00:00\",\"2022-02-16T00:00:00\",\"2022-02-17T00:00:00\",\"2022-02-18T00:00:00\",\"2022-02-22T00:00:00\",\"2022-02-23T00:00:00\",\"2022-02-24T00:00:00\",\"2022-02-25T00:00:00\",\"2022-02-28T00:00:00\",\"2022-03-01T00:00:00\",\"2022-03-02T00:00:00\",\"2022-03-03T00:00:00\",\"2022-03-04T00:00:00\",\"2022-03-07T00:00:00\",\"2022-03-08T00:00:00\",\"2022-03-09T00:00:00\",\"2022-03-10T00:00:00\",\"2022-03-11T00:00:00\",\"2022-03-14T00:00:00\",\"2022-03-15T00:00:00\",\"2022-03-16T00:00:00\",\"2022-03-17T00:00:00\",\"2022-03-18T00:00:00\",\"2022-03-21T00:00:00\",\"2022-03-22T00:00:00\",\"2022-03-23T00:00:00\",\"2022-03-24T00:00:00\",\"2022-03-25T00:00:00\",\"2022-03-28T00:00:00\",\"2022-03-29T00:00:00\",\"2022-03-30T00:00:00\",\"2022-03-31T00:00:00\",\"2022-04-01T00:00:00\",\"2022-04-04T00:00:00\",\"2022-04-05T00:00:00\",\"2022-04-06T00:00:00\",\"2022-04-07T00:00:00\",\"2022-04-08T00:00:00\",\"2022-04-11T00:00:00\",\"2022-04-12T00:00:00\",\"2022-04-13T00:00:00\",\"2022-04-14T00:00:00\",\"2022-04-18T00:00:00\",\"2022-04-19T00:00:00\",\"2022-04-20T00:00:00\",\"2022-04-21T00:00:00\",\"2022-04-22T00:00:00\",\"2022-04-25T00:00:00\",\"2022-04-26T00:00:00\",\"2022-04-27T00:00:00\",\"2022-04-28T00:00:00\",\"2022-04-29T00:00:00\",\"2022-05-02T00:00:00\",\"2022-05-03T00:00:00\",\"2022-05-04T00:00:00\",\"2022-05-05T00:00:00\",\"2022-05-06T00:00:00\",\"2022-05-09T00:00:00\",\"2022-05-10T00:00:00\",\"2022-05-11T00:00:00\",\"2022-05-12T00:00:00\",\"2022-05-13T00:00:00\",\"2022-05-16T00:00:00\",\"2022-05-17T00:00:00\",\"2022-05-18T00:00:00\",\"2022-05-19T00:00:00\",\"2022-05-20T00:00:00\",\"2022-05-23T00:00:00\",\"2022-05-24T00:00:00\",\"2022-05-25T00:00:00\",\"2022-05-26T00:00:00\",\"2022-05-27T00:00:00\",\"2022-05-31T00:00:00\",\"2022-06-01T00:00:00\",\"2022-06-02T00:00:00\",\"2022-06-03T00:00:00\",\"2022-06-06T00:00:00\",\"2022-06-07T00:00:00\",\"2022-06-08T00:00:00\",\"2022-06-09T00:00:00\",\"2022-06-10T00:00:00\",\"2022-06-13T00:00:00\",\"2022-06-14T00:00:00\",\"2022-06-15T00:00:00\",\"2022-06-16T00:00:00\",\"2022-06-17T00:00:00\",\"2022-06-21T00:00:00\",\"2022-06-22T00:00:00\",\"2022-06-23T00:00:00\",\"2022-06-24T00:00:00\",\"2022-06-27T00:00:00\",\"2022-06-28T00:00:00\",\"2022-06-29T00:00:00\",\"2022-06-30T00:00:00\",\"2022-07-01T00:00:00\",\"2022-07-05T00:00:00\",\"2022-07-06T00:00:00\",\"2022-07-07T00:00:00\",\"2022-07-08T00:00:00\",\"2022-07-11T00:00:00\",\"2022-07-12T00:00:00\",\"2022-07-13T00:00:00\",\"2022-07-14T00:00:00\",\"2022-07-15T00:00:00\",\"2022-07-18T00:00:00\",\"2022-07-19T00:00:00\",\"2022-07-20T00:00:00\",\"2022-07-21T00:00:00\",\"2022-07-22T00:00:00\",\"2022-07-25T00:00:00\",\"2022-07-26T00:00:00\",\"2022-07-27T00:00:00\",\"2022-07-28T00:00:00\",\"2022-07-29T00:00:00\",\"2022-08-01T00:00:00\",\"2022-08-02T00:00:00\",\"2022-08-03T00:00:00\",\"2022-08-04T00:00:00\",\"2022-08-05T00:00:00\"],\"xaxis\":\"x\",\"y\":[1.0408311673140387,1.115840311183613,1.1227670531429181,1.1502916303345612,1.0913233369630668,1.1082300388979514,1.1268683741713148,1.144185194302013,1.216961287011811,1.1768136500241284,1.091368952008244,1.1058603512080336,1.207391584302305,1.2081205906035786,1.1167973231756414,1.0773787620243622,1.0658949657956696,1.0201877170365239,1.082209228424292,1.1008476332327854,1.0905547023443722,1.0499467940142464,1.017737474906976,0.9964750917393198,0.9637831164619088,1.0352814338551444,1.0431362054653028,1.1158657914389487,1.098604648205368,1.0715492333450485,1.0342147273421156,1.1138778316660893,1.187722657893404,1.200813968571788,1.2826104859218195,1.2962351498567182,1.2860529782266634,1.2429001201427112,1.3648918967720864,1.3426851949610372,1.368237469564372,1.389425998603032,1.3425881274797575,1.32299958422628,1.2951684433436892,1.3265876777530439,1.257300584084242,1.1834073720850087,1.1737585537114685,1.1209568772539762,1.0626762149781401,1.0426513119650676,1.0765433256631565,1.0307237012966317,1.0561790563874078,1.0763008789130388,1.0415846794363994,0.9786008313488523,0.9462118839233878,0.9649761674139538,0.9109623311902338,0.8928768542093808,0.9591578153329341,0.8992770932875547,0.9470846774269389,0.9504302502192243,0.9859222497024958,0.9136775572290853,0.9054833453718901,0.9976343052991179,1.0355973626716315,0.9787999292966467,0.9520197574167101,1.0421305466703907,1.01611555078426,1.0698524598027983,0.9969280442644594,1.007875539348613,0.982566804497141,0.9945736911332825,0.9507837107966685,0.9991057423275828,1.0506648634736084,1.1071680812904114,1.0989868950045227,1.0782690364971097,1.1531357596901486,1.1018120289525462,1.1056966442619465,1.1139366556975936,1.0975742831258164,1.062259794442662,0.9990469171778241,0.9209430145602849,0.9320670749031031,0.9727376159241229,0.9182355309117787,0.9346568184427032,0.9750330540961522,0.9629084273511046,0.9549626314736392,1.0079931896481298,0.9928668636963941,0.9406603066654684,0.9147629610788549,0.9378749335081155,0.8985261288795471,0.9258104615617134,0.9360807687180894,0.9811215269212454,0.979884162127619,0.9374418983125433,0.9331110743324096,0.9381842983077426,0.951053099852199,0.9751820437450032,0.9961556932533275,1.0512811586140596,1.101704599997058,1.1167387663291402,1.0715124081271843,1.0532610178077677,1.022883225939094,1.100652740797349,1.1126553775457786,1.123730014300209,1.140929639824799,1.146188463798932,1.1688944428993098,1.1888163276128074,1.174833926075552],\"yaxis\":\"y\",\"type\":\"scatter\"}],                        {\"template\":{\"data\":{\"bar\":[{\"error_x\":{\"color\":\"#2a3f5f\"},\"error_y\":{\"color\":\"#2a3f5f\"},\"marker\":{\"line\":{\"color\":\"#E5ECF6\",\"width\":0.5},\"pattern\":{\"fillmode\":\"overlay\",\"size\":10,\"solidity\":0.2}},\"type\":\"bar\"}],\"barpolar\":[{\"marker\":{\"line\":{\"color\":\"#E5ECF6\",\"width\":0.5},\"pattern\":{\"fillmode\":\"overlay\",\"size\":10,\"solidity\":0.2}},\"type\":\"barpolar\"}],\"carpet\":[{\"aaxis\":{\"endlinecolor\":\"#2a3f5f\",\"gridcolor\":\"white\",\"linecolor\":\"white\",\"minorgridcolor\":\"white\",\"startlinecolor\":\"#2a3f5f\"},\"baxis\":{\"endlinecolor\":\"#2a3f5f\",\"gridcolor\":\"white\",\"linecolor\":\"white\",\"minorgridcolor\":\"white\",\"startlinecolor\":\"#2a3f5f\"},\"type\":\"carpet\"}],\"choropleth\":[{\"colorbar\":{\"outlinewidth\":0,\"ticks\":\"\"},\"type\":\"choropleth\"}],\"contour\":[{\"colorbar\":{\"outlinewidth\":0,\"ticks\":\"\"},\"colorscale\":[[0.0,\"#0d0887\"],[0.1111111111111111,\"#46039f\"],[0.2222222222222222,\"#7201a8\"],[0.3333333333333333,\"#9c179e\"],[0.4444444444444444,\"#bd3786\"],[0.5555555555555556,\"#d8576b\"],[0.6666666666666666,\"#ed7953\"],[0.7777777777777778,\"#fb9f3a\"],[0.8888888888888888,\"#fdca26\"],[1.0,\"#f0f921\"]],\"type\":\"contour\"}],\"contourcarpet\":[{\"colorbar\":{\"outlinewidth\":0,\"ticks\":\"\"},\"type\":\"contourcarpet\"}],\"heatmap\":[{\"colorbar\":{\"outlinewidth\":0,\"ticks\":\"\"},\"colorscale\":[[0.0,\"#0d0887\"],[0.1111111111111111,\"#46039f\"],[0.2222222222222222,\"#7201a8\"],[0.3333333333333333,\"#9c179e\"],[0.4444444444444444,\"#bd3786\"],[0.5555555555555556,\"#d8576b\"],[0.6666666666666666,\"#ed7953\"],[0.7777777777777778,\"#fb9f3a\"],[0.8888888888888888,\"#fdca26\"],[1.0,\"#f0f921\"]],\"type\":\"heatmap\"}],\"heatmapgl\":[{\"colorbar\":{\"outlinewidth\":0,\"ticks\":\"\"},\"colorscale\":[[0.0,\"#0d0887\"],[0.1111111111111111,\"#46039f\"],[0.2222222222222222,\"#7201a8\"],[0.3333333333333333,\"#9c179e\"],[0.4444444444444444,\"#bd3786\"],[0.5555555555555556,\"#d8576b\"],[0.6666666666666666,\"#ed7953\"],[0.7777777777777778,\"#fb9f3a\"],[0.8888888888888888,\"#fdca26\"],[1.0,\"#f0f921\"]],\"type\":\"heatmapgl\"}],\"histogram\":[{\"marker\":{\"pattern\":{\"fillmode\":\"overlay\",\"size\":10,\"solidity\":0.2}},\"type\":\"histogram\"}],\"histogram2d\":[{\"colorbar\":{\"outlinewidth\":0,\"ticks\":\"\"},\"colorscale\":[[0.0,\"#0d0887\"],[0.1111111111111111,\"#46039f\"],[0.2222222222222222,\"#7201a8\"],[0.3333333333333333,\"#9c179e\"],[0.4444444444444444,\"#bd3786\"],[0.5555555555555556,\"#d8576b\"],[0.6666666666666666,\"#ed7953\"],[0.7777777777777778,\"#fb9f3a\"],[0.8888888888888888,\"#fdca26\"],[1.0,\"#f0f921\"]],\"type\":\"histogram2d\"}],\"histogram2dcontour\":[{\"colorbar\":{\"outlinewidth\":0,\"ticks\":\"\"},\"colorscale\":[[0.0,\"#0d0887\"],[0.1111111111111111,\"#46039f\"],[0.2222222222222222,\"#7201a8\"],[0.3333333333333333,\"#9c179e\"],[0.4444444444444444,\"#bd3786\"],[0.5555555555555556,\"#d8576b\"],[0.6666666666666666,\"#ed7953\"],[0.7777777777777778,\"#fb9f3a\"],[0.8888888888888888,\"#fdca26\"],[1.0,\"#f0f921\"]],\"type\":\"histogram2dcontour\"}],\"mesh3d\":[{\"colorbar\":{\"outlinewidth\":0,\"ticks\":\"\"},\"type\":\"mesh3d\"}],\"parcoords\":[{\"line\":{\"colorbar\":{\"outlinewidth\":0,\"ticks\":\"\"}},\"type\":\"parcoords\"}],\"pie\":[{\"automargin\":true,\"type\":\"pie\"}],\"scatter\":[{\"marker\":{\"colorbar\":{\"outlinewidth\":0,\"ticks\":\"\"}},\"type\":\"scatter\"}],\"scatter3d\":[{\"line\":{\"colorbar\":{\"outlinewidth\":0,\"ticks\":\"\"}},\"marker\":{\"colorbar\":{\"outlinewidth\":0,\"ticks\":\"\"}},\"type\":\"scatter3d\"}],\"scattercarpet\":[{\"marker\":{\"colorbar\":{\"outlinewidth\":0,\"ticks\":\"\"}},\"type\":\"scattercarpet\"}],\"scattergeo\":[{\"marker\":{\"colorbar\":{\"outlinewidth\":0,\"ticks\":\"\"}},\"type\":\"scattergeo\"}],\"scattergl\":[{\"marker\":{\"colorbar\":{\"outlinewidth\":0,\"ticks\":\"\"}},\"type\":\"scattergl\"}],\"scattermapbox\":[{\"marker\":{\"colorbar\":{\"outlinewidth\":0,\"ticks\":\"\"}},\"type\":\"scattermapbox\"}],\"scatterpolar\":[{\"marker\":{\"colorbar\":{\"outlinewidth\":0,\"ticks\":\"\"}},\"type\":\"scatterpolar\"}],\"scatterpolargl\":[{\"marker\":{\"colorbar\":{\"outlinewidth\":0,\"ticks\":\"\"}},\"type\":\"scatterpolargl\"}],\"scatterternary\":[{\"marker\":{\"colorbar\":{\"outlinewidth\":0,\"ticks\":\"\"}},\"type\":\"scatterternary\"}],\"surface\":[{\"colorbar\":{\"outlinewidth\":0,\"ticks\":\"\"},\"colorscale\":[[0.0,\"#0d0887\"],[0.1111111111111111,\"#46039f\"],[0.2222222222222222,\"#7201a8\"],[0.3333333333333333,\"#9c179e\"],[0.4444444444444444,\"#bd3786\"],[0.5555555555555556,\"#d8576b\"],[0.6666666666666666,\"#ed7953\"],[0.7777777777777778,\"#fb9f3a\"],[0.8888888888888888,\"#fdca26\"],[1.0,\"#f0f921\"]],\"type\":\"surface\"}],\"table\":[{\"cells\":{\"fill\":{\"color\":\"#EBF0F8\"},\"line\":{\"color\":\"white\"}},\"header\":{\"fill\":{\"color\":\"#C8D4E3\"},\"line\":{\"color\":\"white\"}},\"type\":\"table\"}]},\"layout\":{\"annotationdefaults\":{\"arrowcolor\":\"#2a3f5f\",\"arrowhead\":0,\"arrowwidth\":1},\"autotypenumbers\":\"strict\",\"coloraxis\":{\"colorbar\":{\"outlinewidth\":0,\"ticks\":\"\"}},\"colorscale\":{\"diverging\":[[0,\"#8e0152\"],[0.1,\"#c51b7d\"],[0.2,\"#de77ae\"],[0.3,\"#f1b6da\"],[0.4,\"#fde0ef\"],[0.5,\"#f7f7f7\"],[0.6,\"#e6f5d0\"],[0.7,\"#b8e186\"],[0.8,\"#7fbc41\"],[0.9,\"#4d9221\"],[1,\"#276419\"]],\"sequential\":[[0.0,\"#0d0887\"],[0.1111111111111111,\"#46039f\"],[0.2222222222222222,\"#7201a8\"],[0.3333333333333333,\"#9c179e\"],[0.4444444444444444,\"#bd3786\"],[0.5555555555555556,\"#d8576b\"],[0.6666666666666666,\"#ed7953\"],[0.7777777777777778,\"#fb9f3a\"],[0.8888888888888888,\"#fdca26\"],[1.0,\"#f0f921\"]],\"sequentialminus\":[[0.0,\"#0d0887\"],[0.1111111111111111,\"#46039f\"],[0.2222222222222222,\"#7201a8\"],[0.3333333333333333,\"#9c179e\"],[0.4444444444444444,\"#bd3786\"],[0.5555555555555556,\"#d8576b\"],[0.6666666666666666,\"#ed7953\"],[0.7777777777777778,\"#fb9f3a\"],[0.8888888888888888,\"#fdca26\"],[1.0,\"#f0f921\"]]},\"colorway\":[\"#636efa\",\"#EF553B\",\"#00cc96\",\"#ab63fa\",\"#FFA15A\",\"#19d3f3\",\"#FF6692\",\"#B6E880\",\"#FF97FF\",\"#FECB52\"],\"font\":{\"color\":\"#2a3f5f\"},\"geo\":{\"bgcolor\":\"white\",\"lakecolor\":\"white\",\"landcolor\":\"#E5ECF6\",\"showlakes\":true,\"showland\":true,\"subunitcolor\":\"white\"},\"hoverlabel\":{\"align\":\"left\"},\"hovermode\":\"closest\",\"mapbox\":{\"style\":\"light\"},\"paper_bgcolor\":\"white\",\"plot_bgcolor\":\"#E5ECF6\",\"polar\":{\"angularaxis\":{\"gridcolor\":\"white\",\"linecolor\":\"white\",\"ticks\":\"\"},\"bgcolor\":\"#E5ECF6\",\"radialaxis\":{\"gridcolor\":\"white\",\"linecolor\":\"white\",\"ticks\":\"\"}},\"scene\":{\"xaxis\":{\"backgroundcolor\":\"#E5ECF6\",\"gridcolor\":\"white\",\"gridwidth\":2,\"linecolor\":\"white\",\"showbackground\":true,\"ticks\":\"\",\"zerolinecolor\":\"white\"},\"yaxis\":{\"backgroundcolor\":\"#E5ECF6\",\"gridcolor\":\"white\",\"gridwidth\":2,\"linecolor\":\"white\",\"showbackground\":true,\"ticks\":\"\",\"zerolinecolor\":\"white\"},\"zaxis\":{\"backgroundcolor\":\"#E5ECF6\",\"gridcolor\":\"white\",\"gridwidth\":2,\"linecolor\":\"white\",\"showbackground\":true,\"ticks\":\"\",\"zerolinecolor\":\"white\"}},\"shapedefaults\":{\"line\":{\"color\":\"#2a3f5f\"}},\"ternary\":{\"aaxis\":{\"gridcolor\":\"white\",\"linecolor\":\"white\",\"ticks\":\"\"},\"baxis\":{\"gridcolor\":\"white\",\"linecolor\":\"white\",\"ticks\":\"\"},\"bgcolor\":\"#E5ECF6\",\"caxis\":{\"gridcolor\":\"white\",\"linecolor\":\"white\",\"ticks\":\"\"}},\"title\":{\"x\":0.05},\"xaxis\":{\"automargin\":true,\"gridcolor\":\"white\",\"linecolor\":\"white\",\"ticks\":\"\",\"title\":{\"standoff\":15},\"zerolinecolor\":\"white\",\"zerolinewidth\":2},\"yaxis\":{\"automargin\":true,\"gridcolor\":\"white\",\"linecolor\":\"white\",\"ticks\":\"\",\"title\":{\"standoff\":15},\"zerolinecolor\":\"white\",\"zerolinewidth\":2}}},\"xaxis\":{\"anchor\":\"y\",\"domain\":[0.0,1.0],\"title\":{\"text\":\"Date\"}},\"yaxis\":{\"anchor\":\"x\",\"domain\":[0.0,1.0],\"title\":{\"text\":\"Cumulative Returns\"}},\"legend\":{\"title\":{\"text\":\"\"},\"tracegroupgap\":0},\"margin\":{\"t\":60}},                        {\"responsive\": true}                    ).then(function(){\n",
       "                            \n",
       "var gd = document.getElementById('3360803e-9183-4696-8cb0-6fedd33e4c44');\n",
       "var x = new MutationObserver(function (mutations, observer) {{\n",
       "        var display = window.getComputedStyle(gd).display;\n",
       "        if (!display || display === 'none') {{\n",
       "            console.log([gd, 'removed!']);\n",
       "            Plotly.purge(gd);\n",
       "            observer.disconnect();\n",
       "        }}\n",
       "}});\n",
       "\n",
       "// Listen for the removal of the full notebook cells\n",
       "var notebookContainer = gd.closest('#notebook-container');\n",
       "if (notebookContainer) {{\n",
       "    x.observe(notebookContainer, {childList: true});\n",
       "}}\n",
       "\n",
       "// Listen for the clearing of the current output cell\n",
       "var outputEl = gd.closest('.output');\n",
       "if (outputEl) {{\n",
       "    x.observe(outputEl, {childList: true});\n",
       "}}\n",
       "\n",
       "                        })                };                });            </script>        </div>"
      ]
     },
     "metadata": {},
     "output_type": "display_data"
    }
   ],
   "source": [
    "fig = px.line(cum_df, x=combined_df.index, y=[\"returns\",\"strategy\"])\n",
    "fig.update_layout(legend_title_text=\"\")\n",
    "fig.update_yaxes(title_text='Cumulative Returns')\n",
    "fig.show()"
   ]
  }
 ],
 "metadata": {
  "kernelspec": {
   "display_name": "Python 3 (ipykernel)",
   "language": "python",
   "name": "python3"
  },
  "language_info": {
   "codemirror_mode": {
    "name": "ipython",
    "version": 3
   },
   "file_extension": ".py",
   "mimetype": "text/x-python",
   "name": "python",
   "nbconvert_exporter": "python",
   "pygments_lexer": "ipython3",
   "version": "3.9.7"
  }
 },
 "nbformat": 4,
 "nbformat_minor": 5
}
